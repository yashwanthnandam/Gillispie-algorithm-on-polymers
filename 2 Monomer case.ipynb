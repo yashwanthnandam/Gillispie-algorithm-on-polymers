{
 "cells": [
  {
   "cell_type": "code",
   "execution_count": 1,
   "metadata": {},
   "outputs": [],
   "source": [
    "import numpy as np\n",
    "import pandas as pd\n",
    "from pytrie import StringTrie \n",
    "import random\n",
    "import matplotlib.pyplot as plt"
   ]
  },
  {
   "cell_type": "code",
   "execution_count": 2,
   "metadata": {},
   "outputs": [
    {
     "data": {
      "text/plain": [
       "array([list([0]), list([]), list([0]), list([]), list([0]), list([]),\n",
       "       list([0]), list([])], dtype=object)"
      ]
     },
     "execution_count": 2,
     "metadata": {},
     "output_type": "execute_result"
    }
   ],
   "source": [
    "#initialising variables \n",
    "nreal=10;\n",
    "l_iniA=15; #initial length of monomer of type A\n",
    "l_iniB=20; #initial length of monomer of type B\n",
    "concA=10;  #Conc of type A \n",
    "concB=10;  #Conc of type B\n",
    "tsteps=510; # total number of time steps\n",
    "maxspecies=2;\n",
    "totalspecies=2**(maxspecies+1);#keeping a limit on this\n",
    "distri=np.array(([0],[]))# how the species are formed \n",
    "for i in range(maxspecies):\n",
    "    distri=np.concatenate((distri,distri))\n",
    "x=np.zeros(totalspecies);   #concentration of the whole distribution at a particular time \n",
    "    \n",
    "y=np.zeros([totalspecies,tsteps])#concentration of the whole distribution at all time(maxspecies,tsteps)    \n",
    "\n",
    "tobsmax=100; #Maximum observation time (give a safe value)\n",
    "timebins=500; #number of bins into which the observation time is divided\n",
    "limit=100\n",
    "dt=tobsmax/timebins;\n",
    "a=np.zeros(tsteps);\n",
    "t=np.zeros(tsteps);\n",
    "# entropy=zeros(tsteps,1);\n",
    "\n",
    "# entropy_th=zeros(tsteps,1);\n",
    "# totconc=zeros(tsteps+1,1);\n",
    "# totconc_th=zeros(tsteps+1,1);\n",
    "z=np.concatenate((distri,distri))\n",
    "distri"
   ]
  },
  {
   "cell_type": "code",
   "execution_count": 25,
   "metadata": {},
   "outputs": [
    {
     "data": {
      "text/plain": [
       "{'a': 4, 'b': 9, 'v': 10, '': 234}"
      ]
     },
     "execution_count": 25,
     "metadata": {},
     "output_type": "execute_result"
    }
   ],
   "source": [
    "def remove0(d):\n",
    "    a=[]\n",
    "    b={}\n",
    "    x= [ v for v in d.values() ]\n",
    "    y= [ v for v in d.keys() ]\n",
    "    for i in range(len(y)):\n",
    "        if(x[i]!=0):\n",
    "            a.append(i);\n",
    "    for i in a:\n",
    "        b[y[i]]=x[i]\n",
    "    \n",
    "    return b;\n",
    "\n",
    "dict2={'a':4,'b':9,'v':10,'d':0,'':234}\n",
    "remove0(dict2)"
   ]
  },
  {
   "cell_type": "code",
   "execution_count": 35,
   "metadata": {},
   "outputs": [
    {
     "name": "stdout",
     "output_type": "stream",
     "text": [
      "2000\n",
      "{}\n",
      "{'a': 500, 'b': 500, 'ab': 500}\n",
      "{'a': 21, 'b': 31, 'ababbababaab': 1, 'babaababababbaababaabababbbab': 1, 'bbabaabababaab': 1, 'abbaaababbabbbabaaab': 1, 'aabbabbaaaabaabaaaabaaab': 1, 'babaabababbab': 1, 'aaabaabbababaabababaabababbababab': 1, 'bbababaababababaabab': 1, 'ababaabbabababbaabaabbababaab': 1, 'bbabab': 1, 'abaaaababab': 1, 'baaababaabbabbaabbbbbabaab': 1, 'abbababbabbababab': 1, 'baaabbabbaab': 1, 'bbbbbabaaab': 1, 'bbabbbbaaaabbabababbbab': 1, 'babaabaabaaabbabbbaababbab': 1, 'aaaababbaab': 1, 'babababaababaab': 1, 'aababaabbababaab': 1, 'aababaaaabbabbbabaabababbababbbbbababaaaabababaababbabaab': 1, 'aabaabbaababababababbabbbaab': 1, 'baabbabaaababbababbababaabbabaabaaabbaaab': 1, 'abbababbbababababbaabbbab': 1, 'aaaabababbbabaaabaabbabbbabab': 1, 'abaabbabab': 1, 'abbaaabaabbabbabbababbbaabaabbab': 1, 'aaaabaababaaaabbabbaababbaaabababbababbbababbab': 1, 'bababbaabaabaaabbaaababab': 1, 'baaaababbbbabbab': 1, 'aaaabababaababbaabaababababbababbaab': 1, 'aabaabaababbaabaababaabaababbbabbaabbabbab': 1, 'ababbbbabbbbabab': 0, 'babbbababaabababaababaaababaabaabaabaabaabbbabbabaabab': 1, 'ababaabbaababababababababababaaaabaababbbaaaaababaabaabaaab': 1, 'abbaababaababaabababbbabbabbbabab': 1, 'bbaaaab': 1, 'baaabaababaabaaabbabababababaabbaababaaaababbbabaabaaab': 1, 'baab': 1, 'abbabaabbabaabababaababbabbababaab': 1, 'bbbbbababaabaabbabaababaabbababab': 1, 'abbababaababbab': 1, 'bbbaaabbababbabababababababbababaaaababababaab': 1, 'aabbabbaabaababababaabaabbabbbabaabababaaabbabbbabaababbaaab': 1, 'bbbaabbabbababbbaab': 1, 'babababaab': 1, 'baabaaabaabaabaabaaabaababbabbbababbbabaabaab': 1, 'abaababaabab': 1, 'abaabbaabbbabaababbababbababaabbababaabababbababbbaabab': 1, 'bababaaabababbaaabaabbabaabababababbab': 1, 'babbbaabababbabbabaabaabbabbbabbab': 1, 'aabbbabbabbaaaabaabbababbbbabaababab': 1, 'aaaabaababbabbabbaabaabbbababbabbababaab': 1, 'baababbaaaaaababbabaabbbababbbaabaaabab': 1, 'abaaaabaaaabbaabaababababbababbaababaabbaabaabab': 1, 'baaab': 2, 'abbbbaababababbabbabababbbbaaabaabaab': 1, 'baabbababababababbabbaabbababbab': 1, 'aabaabbabababaabbabbbbabaabbbabbaababababbabab': 1, 'babaabababbabaababbbaabaababbbaaab': 1, 'baaaabbababaaabaabbabab': 1, 'baaaaabaababbabaabbbaab': 1, 'abbbaabbabaababaabbabbbabababbaabababababbaabab': 1, 'abaaabbbabbbaabbabaababaabbabbabbabbababbabbbabbabbbabbbabbabaabaabbabaaaabababbbbbab': 1, 'babaabababababbabababbbbabbbaabababbabaab': 1, 'aaabbaabaabaaaababbab': 1, 'bababbbbabbbbabab': 1}\n"
     ]
    },
    {
     "name": "stderr",
     "output_type": "stream",
     "text": [
      "C:\\Users\\yashwanth\\Anaconda3\\lib\\site-packages\\ipykernel_launcher.py:168: RuntimeWarning: invalid value encountered in true_divide\n"
     ]
    }
   ],
   "source": [
    "a1=\"\"\n",
    "b1=\"\"\n",
    "c1=\"\"\n",
    "\n",
    "dict1={}\n",
    "xa=1\n",
    "xb=1\n",
    "xc=2\n",
    "concA=500\n",
    "concB=500\n",
    "concC=500\n",
    "for i in range(xa):\n",
    "    a1+=\"a\"; \n",
    "for i in range(xb):\n",
    "    b1+=\"b\";\n",
    "for i in range(int(xc/2)):\n",
    "    c1+=\"a\";\n",
    "for i in range(int(xc/2)):\n",
    "    c1+=\"b\"; \n",
    "#print(concA)\n",
    "print(concA*xa+concB*xb+concC*xc)\n",
    "# dict1[a]=concA\n",
    "# dict1[b]=concB\n",
    "# dict1[c]=concC\n",
    "print(dict1)\n",
    "#dict1[(a+b)[:int((concA+concB))]]=concA+concB\n",
    "#dict1[(a+a)]=concA+concB\n",
    "\n",
    "lambd=1;\n",
    "nreal=1\n",
    "tsteps=1500\n",
    "concentration=np.zeros((tsteps,4))\n",
    "concentrationf=np.zeros((tsteps+1,4))\n",
    "temp1=0\n",
    "entropy=np.zeros((tsteps+1))\n",
    "for p in range(nreal):\n",
    "    concentration=np.zeros((tsteps+1,4))\n",
    "    temp1=0\n",
    "    t=np.zeros(tsteps+1);\n",
    "    dict1={}\n",
    "    dict1[a1]=concA\n",
    "    dict1[b1]=concB\n",
    "    dict1[c1]=concC\n",
    "    print(dict1)\n",
    "    for i in range(tsteps):\n",
    "        #print(i)\n",
    "        dict1=remove0(dict1)\n",
    "        maxlength=len(dict1)\n",
    "        #print(dict1)\n",
    "        jmax1 = int((maxlength-1)*maxlength/2); #No. of forward reactions\n",
    "        jmax2=jmax1;  #o. of backward reactions\n",
    "        jmaxtot=jmax1+jmax2;\n",
    "        jmaxtot=jmax1\n",
    "        a=np.zeros(jmaxtot); \n",
    "\n",
    "        c=np.zeros(jmaxtot)\n",
    "\n",
    "        c[1:jmax1]=2*lambd;\n",
    "        c[jmax1+1:jmaxtot]=2;\n",
    "        x= [ v for v in dict1.values() ]\n",
    "        y= [ v for v in dict1.keys() ]\n",
    "        j=0    \n",
    "        #print(maxlength)\n",
    "        for l in range(1,maxlength):\n",
    "            for k in range(l-1):\n",
    "                j=j+1;\n",
    "                #print(j)\n",
    "                if (k==(l-k)):\n",
    "                    yt=c[j]\n",
    "                    a[j]=0.5*c[j]*(x[k]-1)*x[l-k]\n",
    "                    #print(1)\n",
    "                else:\n",
    "                    yt=x[l-k]\n",
    "                    a[j]=0.5*c[j]*x[k]*x[l-k]#orward reactions (factor of 0.5 to remove double counting)\n",
    "                    #print(1)\n",
    "                #a[j+jmax1]=0.5*c[j+jmax1]*x[l]; #or corresponding backward reactions\n",
    "\n",
    "        a0=sum(a);\n",
    "        #print(a)\n",
    "\n",
    "            # r1 and r2 are two random nos. in [0,1]\n",
    "        r1=random.random(); r2=random.random(); ajsum=0;\n",
    "\n",
    "        tau = (1/a0)*np.log(1/r1);\n",
    "        #print(tau)\n",
    "        ajsum=0;\n",
    "\n",
    "        for j in range(1,jmaxtot):\n",
    "            if (ajsum<=r2*a0):\n",
    "                ajsum=ajsum+a[j];\n",
    "                jmin=j;\n",
    "\n",
    "        #print(jmin)   \n",
    "\n",
    "\n",
    "        t[i+1]=t[i]+tau;\n",
    "\n",
    "\n",
    "        j=0;\n",
    "\n",
    "        # Increments in no. of molecules of the species that appear in\n",
    "        # jmin^{th} reaction\n",
    "\n",
    "\n",
    "        #print(jmin)\n",
    "        for l in range(1,maxlength):\n",
    "            for k in range(l-1):\n",
    "                j=j+1;\n",
    "                #print(jmin)\n",
    "                pp=2\n",
    "                ll=int(len(y[k])/pp)+1\n",
    "                if (j==jmin  and y[k]!=y[l-k]):\n",
    "\n",
    "                    dict1[y[k]]=x[k]-1\n",
    "                    dict1[y[l-k]]=x[l-k]-1;\n",
    "                    if(y[k]+y[l-k] in dict1):\n",
    "                        temp=y.index(y[k]+y[l-k])\n",
    "                        \n",
    "                        dict1[y[k]+y[l-k]]=x[temp]+1;\n",
    "                    else:\n",
    "                        dict1[y[k]+y[l-k]]=1;\n",
    "                    x= [ v for v in dict1.values() ]\n",
    "                    y= [ v for v in dict1.keys() ]    \n",
    "#multiplicative additve reaction                  \n",
    "#                     if(y[l-k][:ll]+y[k] in dict1):\n",
    "#                         temp=y.index(y[l-k][:ll]+y[k])\n",
    "#                         dict1[y[l-k][:ll]+y[k]]=x[temp]+1;\n",
    "#                     else:\n",
    "#                         dict1[y[l-k][:ll]+y[k]]=1\n",
    "                    \n",
    "                    \n",
    "#                     if(y[l-k][ll:] in dict1):\n",
    "#                         temp=y.index(y[l-k][ll:])\n",
    "#                         dict1[y[l-k][ll:]]=x[temp]+1;\n",
    "#                     else:\n",
    "#                         dict1[y[l-k][ll:]]=1\n",
    "\n",
    "                elif(jmax1+j==jmin):\n",
    "                    dict1[y[l]]=x[l]-1;\n",
    "                    first=y[k][int(maxlength/4):]\n",
    "                    sec=y[k][:int(maxlength/4)]\n",
    "\n",
    "                    if(first in dict1):\n",
    "                        temp=y.index(first)\n",
    "                        dict1[first]=x[temp]+1;\n",
    "                    else:\n",
    "                        dict1[first]=1\n",
    "\n",
    "                    x= [ v for v in dict1.values() ]\n",
    "                    y= [ v for v in dict1.keys() ]\n",
    "\n",
    "                    if sec in dict1:\n",
    "                        temp=y.index(sec)\n",
    "                        dict1[sec]=x[temp]+1;\n",
    "                    else:\n",
    "                        dict1[sec]=1\n",
    "        if(a1 in dict1):\n",
    "            concentration[temp1][0]=dict1[a1]\n",
    "        if(b1 in dict1):\n",
    "            concentration[temp1][1]=dict1[b1]\n",
    "        if(c1 in dict1):\n",
    "            concentration[temp1][2]=dict1[c1]\n",
    "        if('abb' in dict1):\n",
    "            concentration[temp1][3]=dict1['abb']\n",
    "        sum1= sum([ v for v in dict1.values() ])\n",
    "        entropy[temp1]=sum1*np.log(sum1)\n",
    "        temp1+=1\n",
    "    concentration=np.array(concentration)/sum(concentration)\n",
    "    \n",
    "    concentrationf=concentrationf+concentration\n",
    "concentrationf=concentrationf/nreal\n",
    "concentrationf=np.array(concentrationf)\n",
    "\n",
    "\n",
    "print(dict1)"
   ]
  },
  {
   "cell_type": "code",
   "execution_count": 36,
   "metadata": {},
   "outputs": [
    {
     "data": {
      "image/png": "[encoded data removed]",
      "text/plain": [
       "<Figure size 432x288 with 1 Axes>"
      ]
     },
     "metadata": {
      "needs_background": "light"
     },
     "output_type": "display_data"
    },
    {
     "name": "stdout",
     "output_type": "stream",
     "text": [
      "[nan nan nan ... nan nan nan]\n"
     ]
    }
   ],
   "source": [
    "#concentration plots of the polymers\n",
    "entropy=np.sum(concentrationf,axis=1)*np.log(np.sum(concentrationf,axis=1))\n",
    "# y1=concentrationf[:(t.shape[0]-3),0]/np.sum(concentrationf[:(t.shape[0]-3),0])\n",
    "# y2=concentrationf[:(t.shape[0]-3),1]/np.sum(concentrationf[:(t.shape[0]-3),1])\n",
    "# y3=concentrationf[:(t.shape[0]-3),2]/np.sum(concentrationf[:(t.shape[0]-3),2])\n",
    "# y4=concentrationf[:(t.shape[0]-3),3]/np.sum(concentrationf[:(t.shape[0]-3),3])\n",
    "y1=concentrationf[:(t.shape[0]-3),0]\n",
    "y2=concentrationf[:(t.shape[0]-3),1]\n",
    "y3=concentrationf[:(t.shape[0]-3),2]\n",
    "y4=concentrationf[:(t.shape[0]-3),3]\n",
    "en=entropy[:(t.shape[0]-3)]\n",
    "plt.plot(t[:(t.shape[0]-3)],en,label='entropy')\n",
    "#plt.plot(t[:(t.shape[0]-3)],y1,label='a')\n",
    "#plt.plot(t[:(t.shape[0]-3)],y2,label='b')\n",
    "#plt.plot(t[:(t.shape[0]-3)],y3,label='ab')\n",
    "#plt.plot(t[:(t.shape[0]-3)],y4,label='abb')\n",
    "plt.plot()\n",
    "#plt.plot(concentrationf[2],t)\n",
    "#plt.plot(concentrationf[3],t)\n",
    "plt.xlabel('time')\n",
    "plt.ylabel('conc of monomer')\n",
    "#plt.title('')\n",
    "plt.legend()\n",
    "plt.show()\n",
    "\n",
    "print(entropy)"
   ]
  },
  {
   "cell_type": "code",
   "execution_count": 37,
   "metadata": {},
   "outputs": [
    {
     "data": {
      "image/png": "[encoded data removed]",
      "text/plain": [
       "<Figure size 432x288 with 1 Axes>"
      ]
     },
     "metadata": {
      "needs_background": "light"
     },
     "output_type": "display_data"
    }
   ],
   "source": [
    "#plots of ab and abb\n",
    "plt.plot(t[:(t.shape[0]-3)],y3,label=c1)\n",
    "#plt.plot(t[:(t.shape[0]-3)],y4,label='abb')\n",
    "#plt.plot(t[:(t.shape[0]-3)],y4,label='abb')\n",
    "plt.xlabel('time')\n",
    "plt.ylabel('concentration')\n",
    "plt.legend()\n",
    "plt.show()"
   ]
  },
  {
   "cell_type": "code",
   "execution_count": 34,
   "metadata": {},
   "outputs": [
    {
     "data": {
      "image/png": "[encoded data removed]",
      "text/plain": [
       "<Figure size 432x288 with 1 Axes>"
      ]
     },
     "metadata": {
      "needs_background": "light"
     },
     "output_type": "display_data"
    }
   ],
   "source": [
    "#plots of a and b\n",
    "plt.plot(t[:(t.shape[0]-3)],y1,label=a1)\n",
    "plt.plot(t[:(t.shape[0]-3)],y2,label=b1)\n",
    "plt.xlabel('time')\n",
    "plt.ylabel('concentration')\n",
    "plt.legend()\n",
    "plt.show()"
   ]
  },
  {
   "cell_type": "code",
   "execution_count": 30,
   "metadata": {},
   "outputs": [
    {
     "ename": "IndexError",
     "evalue": "list index out of range",
     "output_type": "error",
     "traceback": [
      "\u001b[1;31m---------------------------------------------------------------------------\u001b[0m",
      "\u001b[1;31mIndexError\u001b[0m                                Traceback (most recent call last)",
      "\u001b[1;32m<ipython-input-30-d197fd7473bb>\u001b[0m in \u001b[0;36m<module>\u001b[1;34m\u001b[0m\n\u001b[0;32m      9\u001b[0m \u001b[1;31m#sorted_dict[2]=['ab',19]\u001b[0m\u001b[1;33m\u001b[0m\u001b[1;33m\u001b[0m\u001b[1;33m\u001b[0m\u001b[0m\n\u001b[0;32m     10\u001b[0m \u001b[1;32mfor\u001b[0m \u001b[0mi\u001b[0m \u001b[1;32min\u001b[0m \u001b[0mrange\u001b[0m\u001b[1;33m(\u001b[0m\u001b[0mtopn\u001b[0m\u001b[1;33m)\u001b[0m\u001b[1;33m:\u001b[0m\u001b[1;33m\u001b[0m\u001b[1;33m\u001b[0m\u001b[0m\n\u001b[1;32m---> 11\u001b[1;33m     \u001b[0mxval\u001b[0m\u001b[1;33m[\u001b[0m\u001b[0mi\u001b[0m\u001b[1;33m]\u001b[0m\u001b[1;33m=\u001b[0m\u001b[0msorted_dict\u001b[0m\u001b[1;33m[\u001b[0m\u001b[0mi\u001b[0m\u001b[1;33m]\u001b[0m\u001b[1;33m[\u001b[0m\u001b[1;36m0\u001b[0m\u001b[1;33m]\u001b[0m\u001b[1;33m\u001b[0m\u001b[1;33m\u001b[0m\u001b[0m\n\u001b[0m\u001b[0;32m     12\u001b[0m     \u001b[0myval\u001b[0m\u001b[1;33m[\u001b[0m\u001b[0mi\u001b[0m\u001b[1;33m]\u001b[0m\u001b[1;33m=\u001b[0m\u001b[0msorted_dict\u001b[0m\u001b[1;33m[\u001b[0m\u001b[0mi\u001b[0m\u001b[1;33m]\u001b[0m\u001b[1;33m[\u001b[0m\u001b[1;36m1\u001b[0m\u001b[1;33m]\u001b[0m\u001b[1;33m\u001b[0m\u001b[1;33m\u001b[0m\u001b[0m\n\u001b[0;32m     13\u001b[0m \u001b[1;33m\u001b[0m\u001b[0m\n",
      "\u001b[1;31mIndexError\u001b[0m: list index out of range"
     ]
    }
   ],
   "source": [
    "#plot of longest polymers formed\n",
    "import operator\n",
    "\n",
    "sorted_dict = sorted(dict1.items(), key=operator.itemgetter(1))\n",
    "sorted_dict.reverse()\n",
    "topn=10\n",
    "xval = np.empty(topn, dtype=object)\n",
    "yval = np.empty(topn, dtype=object)\n",
    "#sorted_dict[2]=['ab',19]\n",
    "for i in range(topn):\n",
    "    xval[i]=sorted_dict[i][0]\n",
    "    yval[i]=sorted_dict[i][1]\n",
    "\n",
    "\n",
    "def plot_bar_x(label,no_movies):\n",
    "    # this is for plotting purpose\n",
    "    index = np.arange(len(label))\n",
    "    plt.bar(index, no_movies)\n",
    "    \n",
    "    plt.xlabel('polymer', fontsize=15)\n",
    "    plt.ylabel('concentration at equilibrium', fontsize=15)\n",
    "    plt.xticks(index, label, fontsize=7, rotation=30)\n",
    "    #plt.title('Market Share for Each Genre 1995-2017')\n",
    "    plt.show()\n",
    "plot_bar_x(xval,yval)\n",
    "print(sorted_dict)"
   ]
  },
  {
   "cell_type": "code",
   "execution_count": 12,
   "metadata": {},
   "outputs": [
    {
     "name": "stdout",
     "output_type": "stream",
     "text": [
      "[253, 1905, 1221, 437]\n"
     ]
    },
    {
     "data": {
      "text/plain": [
       "(5474, None)"
      ]
     },
     "execution_count": 12,
     "metadata": {},
     "output_type": "execute_result"
    }
   ],
   "source": [
    "a=[]\n",
    "b=[]\n",
    "j=0\n",
    "a= [ v for v in dict1.keys() ]\n",
    "b=[ v for v in dict1.values() ]\n",
    "sum1=0\n",
    "length=len(a)\n",
    "#a=[None]*length\n",
    "for i in range(length):\n",
    "    \n",
    "    sum1+=(len(a[i])*b[i])\n",
    "sum1,print(b)"
   ]
  },
  {
   "cell_type": "code",
   "execution_count": 13,
   "metadata": {},
   "outputs": [],
   "source": [
    "#computing a\n",
    "# x(time,species) --> matrix x\n",
    "# c(channel) --> vector c\n",
    "# tsteps=no. of random time steps (or no. of reactions)\n",
    "# a(j) = propensity function for jth reaction channel\n",
    "# a0 =  sum of a(j)\n",
    "# r1,r2 = two uniform random nos. in [0,1]\n",
    "# ajsum = sum of a(j) till the sum exceeds r2*a0\n",
    "# jmin = mininum value of j for which ajsum exceeds r2*a0\n",
    "# tau = random time step\n",
    "#rate constant\n",
    "\n",
    "def no_tillnow(x):\n",
    "    k=0\n",
    "    for i in x:\n",
    "        k+=1\n",
    "        if(i==0):\n",
    "            return k-1\n",
    "    return 'full'        \n",
    "\n",
    "def compute_a(maxspecies,x,c):\n",
    "    a=np.zeros(totalspecies) \n",
    "    k=0\n",
    "    length=no_tillnow(x)\n",
    "    for l in range(2,length):\n",
    "        for k in range(1,l-1):\n",
    "            j=j+1\n",
    "            if(k==l-k):\n",
    "                a[j]=0.5*c[j]*(x[k]-1)*x[l-k];\n",
    "            else:\n",
    "                a[j]=0.5*c[j]*x[k]*x[l-k];#Forward reactions (factor of 0.5 to remove double counting)\n",
    "    return a,length;       \n",
    "\n",
    "def calcparameters(a,t):\n",
    "    a0=sum(a);        \n",
    "    r1=random.random()\n",
    "    r2=random.random()\n",
    "    # r1 and r2 are two random nos. in [0,1]\n",
    "    ajsum=0\n",
    "\n",
    "    tau = (1/a0)*log(1/r1);\n",
    "\n",
    "    ajsum=0;\n",
    "    tau\n",
    "\n",
    "    for j in range(1,jmaxtot+1):\n",
    "        if ajsum<=r2*a0:\n",
    "            ajsum=ajsum+a(j);\n",
    "            jmin=j;\n",
    "    t[i+1]=t[i]+tau;       \n",
    "    return a,jmin,t;\n",
    "            \n",
    "        \n",
    "        \n",
    "        \n",
    "        \n",
    "        \n",
    "def update(x,jmin,length,distri,currentlength):\n",
    "    j=0;\n",
    "    for l in range(2,length+1):\n",
    "        for k in range(l-1):\n",
    "            j=j+1\n",
    "            if j==jmin:\n",
    "                \n",
    "                if (k>l-k and l-k>1):\n",
    "                    length,x,distri=removemonomer(distri,k,length)\n",
    "                    length,x,distri=removemonomer(distri,l-k,length)\n",
    "                    length,x,distri=add2polymers(distri,k,l-k.length)\n",
    "\n",
    "\n",
    "\n",
    "    return x;                  \n",
    "                        \n",
    "\n",
    "              "
   ]
  },
  {
   "cell_type": "code",
   "execution_count": 14,
   "metadata": {},
   "outputs": [
    {
     "data": {
      "text/plain": [
       "0"
      ]
     },
     "execution_count": 14,
     "metadata": {},
     "output_type": "execute_result"
    }
   ],
   "source": [
    "# Function which returns all strings  \n",
    "# that contains given prefix \n",
    "import numpy as np  \n",
    "#takes newly formed polymer as prefix and searches it in the previously formed polymers list\n",
    "\n",
    "def add2polymers(distri,l,k,length):\n",
    "    if(polymerSearch(distri,distri[k]+(distri[l-k])) ==1):\n",
    "        k=0;\n",
    "        for i in distri:\n",
    "            k=k+1\n",
    "            if(i==distri[k]+(distri[l-k])[-1:]):\n",
    "                x[k]=x[k]+1\n",
    "    else:\n",
    "        distri[length]=distri[k]+(distri[l-k]);\n",
    "        length=length+1;\n",
    "        x[length]=1\n",
    "    return length,x,distri\n",
    "\n",
    "    \n",
    "def addmonomer(distri,l,k,length):\n",
    "    if(polymerSearch(distri,distri[k]+(distri[l-k])[-1:]) ==1):\n",
    "        k=0;\n",
    "        for i in distri:\n",
    "            k=k+1\n",
    "            if(i==distri[k]+(distri[l-k])[-1:]):\n",
    "                x[k]=x[k]+1\n",
    "    else:\n",
    "        distri[length]=distri[k]+(distri[l-k])[-1:];\n",
    "        length=length+1;\n",
    "        x[length]=1\n",
    "    return length,x,distri\n",
    "def removemonomer(distri,k,length):\n",
    "    k=0;\n",
    "\n",
    "    x[k]=x[k]-1\n",
    "    if(x[k]==0):\n",
    "        print(\"furter monomers cannot be removed\")\n",
    "    return length,x,distri\n",
    "\n",
    "def polymerSearch(arr,prefix): \n",
    "      \n",
    "    # create empty trie \n",
    "    trie=StringTrie() \n",
    "  \n",
    "    # traverse through list of strings  \n",
    "    # to insert it in trie. Here value of  \n",
    "    # key is itself key because at last \n",
    "    # we need to return  \n",
    "    for key in arr: \n",
    "        trie[key] = key \n",
    "  \n",
    "    # values(search) method returns list \n",
    "    # of values of keys which contains  \n",
    "    # search pattern as prefix \n",
    "    output = trie.values(prefix)\n",
    "    a=np.zeros(len(output))\n",
    "    j=0\n",
    "    leng=len(prefix)\n",
    "    for i in output:\n",
    "        a[j]=len(i)\n",
    "        j+=1\n",
    "    if len(output) > 0 and leng in a: \n",
    "        return 1\n",
    "    else: \n",
    "        return 0\n",
    "def randombias(bias):\n",
    "\n",
    "    a=random.random();\n",
    "    if a<bias and a>0:\n",
    "        temp=1;\n",
    "    elif a>bias and a<1:\n",
    "            temp=0;\n",
    "\n",
    "    outputArg1 = temp;\n",
    "\n",
    "    return outputArg1;\n",
    "\n",
    "\n",
    "polymerSearch([[1,0,1,1,1],[1,1]],[1,1,1])"
   ]
  },
  {
   "cell_type": "code",
   "execution_count": 9,
   "metadata": {},
   "outputs": [
    {
     "name": "stdout",
     "output_type": "stream",
     "text": [
      "0\n",
      "1\n",
      "2\n",
      "3\n",
      "4\n"
     ]
    }
   ],
   "source": [
    "for i in range(tsteps):\n",
    "    a,length=compute_a(maxspecies,x,c);\n",
    "    a0=sum(a)\n",
    "    a,jmin,t=calcparameters(a,t)\n",
    "    \n",
    "    "
   ]
  },
  {
   "cell_type": "code",
   "execution_count": 76,
   "metadata": {},
   "outputs": [
    {
     "data": {
      "text/plain": [
       "array([list([0]), '11', list([0]), list([]), list([0]), list([]),\n",
       "       list([0]), list([])], dtype=object)"
      ]
     },
     "execution_count": 76,
     "metadata": {},
     "output_type": "execute_result"
    }
   ],
   "source": [
    "maxspecies=2;\n",
    "totalspecies=2**(maxspecies+1);#keeping a limit on this\n",
    "distri=np.array(([0],[]))# how the species are formed \n",
    "for i in range(maxspecies):\n",
    "    distri=np.concatenate((distri,distri))\n",
    "distri[1]='11'\n",
    "distri"
   ]
  },
  {
   "cell_type": "code",
   "execution_count": 82,
   "metadata": {},
   "outputs": [
    {
     "data": {
      "text/plain": [
       "'f'"
      ]
     },
     "execution_count": 82,
     "metadata": {},
     "output_type": "execute_result"
    }
   ],
   "source": [
    "a=\"kafhkasdf\"\n",
    "a[-1:]"
   ]
  },
  {
   "cell_type": "code",
   "execution_count": 80,
   "metadata": {},
   "outputs": [
    {
     "data": {
      "text/plain": [
       "array(['000', '110', list([0]), list([]), list([0]), list([]), list([0]),\n",
       "       list([])], dtype=object)"
      ]
     },
     "execution_count": 80,
     "metadata": {},
     "output_type": "execute_result"
    }
   ],
   "source": [
    "distri[0]='000'\n",
    "distri"
   ]
  },
  {
   "cell_type": "code",
   "execution_count": 68,
   "metadata": {},
   "outputs": [
    {
     "ename": "TypeError",
     "evalue": "'builtin_function_or_method' object is not subscriptable",
     "output_type": "error",
     "traceback": [
      "\u001b[1;31m---------------------------------------------------------------------------\u001b[0m",
      "\u001b[1;31mTypeError\u001b[0m                                 Traceback (most recent call last)",
      "\u001b[1;32m<ipython-input-68-8e0357c13052>\u001b[0m in \u001b[0;36m<module>\u001b[1;34m\u001b[0m\n\u001b[1;32m----> 1\u001b[1;33m \u001b[0mdistri\u001b[0m\u001b[1;33m[\u001b[0m\u001b[1;36m0\u001b[0m\u001b[1;33m]\u001b[0m\u001b[1;33m.\u001b[0m\u001b[0minsert\u001b[0m\u001b[1;33m[\u001b[0m\u001b[1;36m0\u001b[0m\u001b[1;33m,\u001b[0m\u001b[1;33m-\u001b[0m\u001b[1;36m1\u001b[0m\u001b[1;33m]\u001b[0m\u001b[1;33m\u001b[0m\u001b[1;33m\u001b[0m\u001b[0m\n\u001b[0m",
      "\u001b[1;31mTypeError\u001b[0m: 'builtin_function_or_method' object is not subscriptable"
     ]
    }
   ],
   "source": [
    "distri[0].insert[0,-1]"
   ]
  },
  {
   "cell_type": "code",
   "execution_count": 90,
   "metadata": {},
   "outputs": [
    {
     "data": {
      "text/plain": [
       "0.7308565245179341"
      ]
     },
     "execution_count": 90,
     "metadata": {},
     "output_type": "execute_result"
    }
   ],
   "source": [
    "a=random.random()\n",
    "a"
   ]
  },
  {
   "cell_type": "code",
   "execution_count": 4,
   "metadata": {},
   "outputs": [],
   "source": [
    "dict1={1:'a',2:'g',5:'l'}"
   ]
  },
  {
   "cell_type": "code",
   "execution_count": 6,
   "metadata": {},
   "outputs": [],
   "source": [
    "dict1[4]=3"
   ]
  },
  {
   "cell_type": "code",
   "execution_count": null,
   "metadata": {},
   "outputs": [],
   "source": []
  }
 ],
 "metadata": {
  "kernelspec": {
   "display_name": "Python 3",
   "language": "python",
   "name": "python3"
  },
  "language_info": {
   "codemirror_mode": {
    "name": "ipython",
    "version": 3
   },
   "file_extension": ".py",
   "mimetype": "text/x-python",
   "name": "python",
   "nbconvert_exporter": "python",
   "pygments_lexer": "ipython3",
   "version": "3.7.3"
  }
 },
 "nbformat": 4,
 "nbformat_minor": 2
}
